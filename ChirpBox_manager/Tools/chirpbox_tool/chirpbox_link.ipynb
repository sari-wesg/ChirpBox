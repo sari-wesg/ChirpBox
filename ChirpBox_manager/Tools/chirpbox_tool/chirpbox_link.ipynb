{
 "metadata": {
  "language_info": {
   "codemirror_mode": {
    "name": "ipython",
    "version": 3
   },
   "file_extension": ".py",
   "mimetype": "text/x-python",
   "name": "python",
   "nbconvert_exporter": "python",
   "pygments_lexer": "ipython3",
   "version": "3.9.1"
  },
  "orig_nbformat": 2,
  "kernelspec": {
   "name": "python391jvsc74a57bd063fd5069d213b44bf678585dea6b12cceca9941eaf7f819626cde1f2670de90d",
   "display_name": "Python 3.9.1 64-bit"
  },
  "metadata": {
   "interpreter": {
    "hash": "63fd5069d213b44bf678585dea6b12cceca9941eaf7f819626cde1f2670de90d"
   }
  }
 },
 "nbformat": 4,
 "nbformat_minor": 2,
 "cells": [
  {
   "source": [
    "This is the notebook for processing the link quality data collected from [ChirpBox](https://chirpbox.github.io/). Please check out [notebook viewer](https://nbviewer.jupyter.org/urls/zenodo.org/record/4738535/files/chirpbox_link.ipynb/%3Fdownload%3D1) for results preview.\n",
    "\n",
    "Related source code can be found at [ChirpBox repository](https://github.com/sari-wesg/ChirpBox/tree/master/chirpbox%20manager/Tools/chirpbox_tool).\n",
    "\n",
    "Dataset will be open sourced at Zenodo.<br /> \n",
    "[![DOI](https://zenodo.org/badge/DOI/10.5281/zenodo.4738535.svg)](https://doi.org/10.5281/zenodo.4738535)"
   ],
   "cell_type": "markdown",
   "metadata": {}
  },
  {
   "cell_type": "code",
   "execution_count": null,
   "metadata": {},
   "outputs": [],
   "source": [
    "from lib.chirpbox_tool_link_quality import *\n",
    "from IPython.display import Image"
   ]
  },
  {
   "cell_type": "code",
   "execution_count": null,
   "metadata": {},
   "outputs": [],
   "source": [
    "# specify link quality folder\n",
    "link_action = lib.chirpbox_tool_link_quality.link_quality()\n",
    "directory_path = \"..//..//link_quality_04-21-05-02\"\n",
    "\n",
    "# specify the SF, frequency, node ID\n",
    "sf_list = list(range(7,13))\n",
    "freq_list = [470000, 480000, 490000]\n",
    "id_list = list(range(21))\n",
    "\n",
    "# specify the plot start and end date\n",
    "# TODO:\n",
    "plot_date_start = \"2021-04-24\"\n",
    "plot_date_end = \"2021-04-30\"\n",
    "\n",
    "\n",
    "plot_date = [plot_date_start, plot_date_end]\n"
   ]
  },
  {
   "source": [
    "Note:<br /> \n",
    "Degree of the node: number of other nodes that can connect with the node."
   ],
   "cell_type": "markdown",
   "metadata": {}
  },
  {
   "source": [
    "# save plot output format\n",
    "plot_type = [\"degree_plot\"]\n",
    "link_action.chirpbox_link_csv_processing(sf_list, freq_list, id_list, directory_path, plot_type, plot_date)\n"
   ],
   "cell_type": "code",
   "metadata": {},
   "execution_count": null,
   "outputs": []
  },
  {
   "source": [
    "# save plot output format\n",
    "plot_type = [\"MAX_RSSI_SNR_Degree_plot\", \"MIN_RSSI_SNR_Degree_plot\"]\n",
    "link_action.chirpbox_link_csv_processing(sf_list, freq_list, id_list, directory_path, plot_type, plot_date)"
   ],
   "cell_type": "code",
   "metadata": {},
   "execution_count": null,
   "outputs": []
  },
  {
   "source": [
    "# save plot output format\n",
    "plot_type = [\"RSSI_SF_Freq_plot\", \"SNR_SF_Freq_plot\"]\n",
    "link_action.chirpbox_link_csv_processing(sf_list, freq_list, id_list, directory_path, plot_type, plot_date)"
   ],
   "cell_type": "code",
   "metadata": {},
   "execution_count": null,
   "outputs": []
  },
  {
   "source": [
    "# only plot SF 7 and frequency 480000 for heatmap and topology\n",
    "sf_list = [7]\n",
    "freq_list = [480000]\n",
    "\n",
    "# save plot output format\n",
    "plot_type = [\"heatmap\", \"topology\", \"using_pos2\", \"png\"]\n",
    "link_action.chirpbox_link_csv_processing(sf_list, freq_list, id_list, directory_path, plot_type, plot_date)"
   ],
   "cell_type": "code",
   "metadata": {
    "tags": []
   },
   "execution_count": null,
   "outputs": []
  },
  {
   "source": [
    "# show the GIF of heatmap\n",
    "file_prefix = 'Heatmap' + \"_SF\" + str('{0:02}'.format(sf_list[0])) + \"_CH\" + str('{0:06}'.format(freq_list[0]))\n",
    "Image(open(directory_path+ '\\\\link_quality\\\\' + file_prefix + '.gif','rb').read())"
   ],
   "cell_type": "code",
   "metadata": {},
   "execution_count": null,
   "outputs": []
  },
  {
   "source": [
    "Note:<br /> \n",
    "Node color: The depth representation of node color is based on the degree of the node. Higher the degree, darker the color.<br /> \n",
    "Line color: The depth representation of line color is based on the PDR of the connection. Higher the PDR, darker the color.<br /> \n",
    "Red line and arrow: The link with the max-hop from source node to target node."
   ],
   "cell_type": "markdown",
   "metadata": {}
  },
  {
   "source": [
    "# show the GIF of topology\n",
    "file_prefix = 'Networktopology' + \"_SF\" + str('{0:02}'.format(sf_list[0])) + \"_CH\" + str('{0:06}'.format(freq_list[0]))\n",
    "Image(open(directory_path+ '\\\\link_quality\\\\' + file_prefix + '.gif','rb').read())"
   ],
   "cell_type": "code",
   "metadata": {},
   "execution_count": null,
   "outputs": []
  }
 ]
}