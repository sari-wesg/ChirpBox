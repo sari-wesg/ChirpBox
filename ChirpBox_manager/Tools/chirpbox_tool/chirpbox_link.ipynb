{
 "metadata": {
  "language_info": {
   "codemirror_mode": {
    "name": "ipython",
    "version": 3
   },
   "file_extension": ".py",
   "mimetype": "text/x-python",
   "name": "python",
   "nbconvert_exporter": "python",
   "pygments_lexer": "ipython3",
   "version": "3.9.1"
  },
  "orig_nbformat": 2,
  "kernelspec": {
   "name": "python3",
   "display_name": "Python 3.9.1 64-bit"
  },
  "metadata": {
   "interpreter": {
    "hash": "63fd5069d213b44bf678585dea6b12cceca9941eaf7f819626cde1f2670de90d"
   }
  },
  "interpreter": {
   "hash": "63fd5069d213b44bf678585dea6b12cceca9941eaf7f819626cde1f2670de90d"
  }
 },
 "nbformat": 4,
 "nbformat_minor": 2,
 "cells": [
  {
   "cell_type": "markdown",
   "source": [
    "This is the notebook for processing the link quality data collected from [ChirpBox](https://chirpbox.github.io/). Please check out [notebook viewer](https://nbviewer.jupyter.org/urls/zenodo.org/record/4738535/files/chirpbox_link.ipynb/%3Fdownload%3D1) for results preview.\r\n",
    "\r\n",
    "Related source code can be found at [ChirpBox repository](https://github.com/sari-wesg/ChirpBox/tree/master/chirpbox%20manager/Tools/chirpbox_tool).\r\n",
    "\r\n",
    "Dataset will be open sourced at Zenodo.<br /> \r\n",
    "[![DOI](https://zenodo.org/badge/DOI/10.5281/zenodo.4738535.svg)](https://doi.org/10.5281/zenodo.4738535)"
   ],
   "metadata": {}
  },
  {
   "cell_type": "code",
   "execution_count": null,
   "source": [
    "from lib.chirpbox_tool_link_quality import *\r\n",
    "from IPython.display import Image"
   ],
   "outputs": [],
   "metadata": {}
  },
  {
   "cell_type": "code",
   "execution_count": null,
   "source": [
    "# specify link quality folder\r\n",
    "link_action = lib.chirpbox_tool_link_quality.link_quality()\r\n",
    "directory_path = \"dataset//link_quality_05-03-09-12\"\r\n",
    "# specify the SF, frequency, node ID\r\n",
    "id_list = list(range(21))\r\n",
    "sf_list = list(range(7,13))\r\n",
    "freq_list = [470000, 480000, 490000]"
   ],
   "outputs": [],
   "metadata": {}
  },
  {
   "cell_type": "markdown",
   "source": [
    "Note:<br /> \r\n",
    "Degree of the node: number of other nodes that can connect with the node."
   ],
   "metadata": {}
  },
  {
   "cell_type": "code",
   "execution_count": null,
   "source": [
    "# save plot output format\r\n",
    "plot_type = [\"max_min_temperature\", 'pdf']\r\n",
    "# LoRa parameters\r\n",
    "sf_list = [12]\r\n",
    "freq_list = [490000]\r\n",
    "# plot start and end time\r\n",
    "plot_date_start = \"2021-06-22 00:00:00\"\r\n",
    "plot_date_end = \"2021-06-25 00:00:00\"\r\n",
    "plot_time_start = \"00:00:00\"\r\n",
    "plot_time_end = \"23:59:59\"\r\n",
    "plot_date = [plot_date_start, plot_date_end, plot_time_start, plot_time_end]\r\n",
    "# draw\r\n",
    "link_action.chirpbox_link_csv_processing(sf_list, freq_list, id_list, directory_path, plot_type, plot_date)"
   ],
   "outputs": [],
   "metadata": {}
  },
  {
   "cell_type": "code",
   "execution_count": null,
   "source": [
    "# save plot output format\r\n",
    "plot_type = ['pdf']\r\n",
    "# LoRa parameters\r\n",
    "sf_list = [7]\r\n",
    "freq_list = [480000]\r\n",
    "# rx and tx nodes\r\n",
    "rx_tx_node = [4, 0]\r\n",
    "# plot start and end time\r\n",
    "plot_date_start = \"2021-05-27 00:00:00\"\r\n",
    "plot_date_end = \"2021-06-02 00:00:00\"\r\n",
    "# plot_date_start = \"2021-07-05 03:06:02\"\r\n",
    "# plot_date_end = \"2021-07-08 17:57:02\"\r\n",
    "plot_time_start = \"00:00:00\"\r\n",
    "plot_time_end = \"23:59:59\"\r\n",
    "plot_date = [plot_date_start, plot_date_end, plot_time_start, plot_time_end]\r\n",
    "# draw\r\n",
    "link_action.chirpbox_link_csv_processing(sf_list, freq_list, id_list, directory_path, plot_type, plot_date, rx_tx_node, [\"average_degree\", \"weather_temperature\"])\r\n",
    "link_action.chirpbox_link_csv_processing(sf_list, freq_list, id_list, directory_path, plot_type, plot_date, rx_tx_node, [\"average_degree\", \"wind_speed\"])\r\n",
    "link_action.chirpbox_link_csv_processing(sf_list, freq_list, id_list, directory_path, plot_type, plot_date, rx_tx_node, [\"average_degree\", \"humidity\"])\r\n",
    "link_action.chirpbox_link_csv_processing(sf_list, freq_list, id_list, directory_path, plot_type, plot_date, rx_tx_node, [\"degree\", \"weather_temperature\"])"
   ],
   "outputs": [],
   "metadata": {}
  },
  {
   "cell_type": "code",
   "execution_count": null,
   "source": [
    "# save plot output format\r\n",
    "plot_type = ['pdf']\r\n",
    "# LoRa parameters\r\n",
    "sf_list = [7]\r\n",
    "freq_list = [480000]\r\n",
    "# rx and tx nodes\r\n",
    "rx_tx_node = [5, 7]\r\n",
    "# plot start and end time\r\n",
    "plot_date_start = \"2021-05-06 14:00:00\"\r\n",
    "plot_date_end = \"2021-05-11 12:00:00\"\r\n",
    "plot_time_start = \"00:00:00\"\r\n",
    "plot_time_end = \"23:59:59\"\r\n",
    "plot_date = [plot_date_start, plot_date_end, plot_time_start, plot_time_end]\r\n",
    "# draw\r\n",
    "link_action.chirpbox_link_csv_processing(sf_list, freq_list, id_list, directory_path, plot_type, plot_date, rx_tx_node, [\"subplot_PRR\", \"weather_temperature\"])"
   ],
   "outputs": [],
   "metadata": {}
  },
  {
   "cell_type": "code",
   "execution_count": null,
   "source": [
    "# save plot output format\r\n",
    "plot_type = ['AVG_link_RSSI_temperature_plot', 'pdf']\r\n",
    "# LoRa parameters\r\n",
    "sf_list = list(range(7,13))\r\n",
    "freq_list = [480000]\r\n",
    "# rx and tx nodes\r\n",
    "rx_tx_node = [10, 19]\r\n",
    "# plot start and end time\r\n",
    "plot_date_start = \"2021-06-25 00:00:00\"\r\n",
    "plot_date_end = \"2021-07-25 00:00:00\"\r\n",
    "plot_time_start = \"00:00:00\"\r\n",
    "plot_time_end = \"23:59:59\"\r\n",
    "plot_date = [plot_date_start, plot_date_end, plot_time_start, plot_time_end]\r\n",
    "# draw\r\n",
    "link_action.chirpbox_link_csv_processing(sf_list, freq_list, id_list, directory_path, plot_type, plot_date, rx_tx_node)\r\n"
   ],
   "outputs": [],
   "metadata": {}
  },
  {
   "cell_type": "markdown",
   "source": [
    "Draw heatmap and topology plots, and convert them to GIFs.\r\n",
    "\r\n",
    "Note: don't plot with long period (no more than 24 hours), otherwise there will be a plethora of plots and the GIF will become huge."
   ],
   "metadata": {}
  },
  {
   "cell_type": "code",
   "execution_count": null,
   "source": [
    "# only plot SF 7 and frequency 480000 for heatmap and topology\r\n",
    "sf_list = [7]\r\n",
    "freq_list = [480000]\r\n",
    "# plot start and end time\r\n",
    "plot_date_start = \"2021-05-07 00:00:00\"\r\n",
    "plot_date_end = \"2021-05-07 12:00:00\"\r\n",
    "plot_time_start = \"00:00:00\"\r\n",
    "plot_time_end = \"23:59:59\"\r\n",
    "plot_date = [plot_date_start, plot_date_end, plot_time_start, plot_time_end]\r\n",
    "# save plot output format\r\n",
    "plot_type = [\"heatmap\", \"topology\", \"using_pos2\", \"png\"]\r\n",
    "link_action.chirpbox_link_csv_processing(sf_list, freq_list, id_list, directory_path, plot_type, plot_date)"
   ],
   "outputs": [],
   "metadata": {
    "tags": []
   }
  },
  {
   "cell_type": "code",
   "execution_count": null,
   "source": [
    "# show the GIF of heatmap\r\n",
    "file_prefix = 'Heatmap' + \"_SF\" + str('{0:02}'.format(sf_list[0])) + \"_CH\" + str('{0:06}'.format(freq_list[0]))\r\n",
    "Image(open(directory_path+ '\\\\link_quality\\\\' + file_prefix + '.gif','rb').read())"
   ],
   "outputs": [],
   "metadata": {}
  },
  {
   "cell_type": "markdown",
   "source": [
    "Note:<br /> \r\n",
    "Node color: The depth representation of node color is based on the degree of the node. Higher the degree, darker the color.<br /> \r\n",
    "Line color: The depth representation of line color is based on the PDR of the connection. Higher the PDR, darker the color.<br /> \r\n",
    "Red line and arrow: The link with the max-hop from source node to target node."
   ],
   "metadata": {}
  },
  {
   "cell_type": "code",
   "execution_count": null,
   "source": [
    "# show the GIF of topology\r\n",
    "file_prefix = 'Networktopology' + \"_SF\" + str('{0:02}'.format(sf_list[0])) + \"_CH\" + str('{0:06}'.format(freq_list[0]))\r\n",
    "Image(open(directory_path+ '\\\\link_quality\\\\' + file_prefix + '.gif','rb').read())"
   ],
   "outputs": [],
   "metadata": {}
  }
 ]
}